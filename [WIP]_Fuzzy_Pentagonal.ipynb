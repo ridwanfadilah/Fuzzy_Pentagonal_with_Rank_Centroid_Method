{
  "nbformat": 4,
  "nbformat_minor": 0,
  "metadata": {
    "colab": {
      "provenance": []
    },
    "kernelspec": {
      "name": "python3",
      "display_name": "Python 3"
    },
    "language_info": {
      "name": "python"
    }
  },
  "cells": [
    {
      "cell_type": "code",
      "source": [
        "!pip install xlsxwriter"
      ],
      "metadata": {
        "colab": {
          "base_uri": "https://localhost:8080/"
        },
        "id": "yo8ebtDLbvWY",
        "outputId": "35bd19dd-5375-4f8f-a782-3ecbb5746003"
      },
      "execution_count": 1,
      "outputs": [
        {
          "output_type": "stream",
          "name": "stdout",
          "text": [
            "Requirement already satisfied: xlsxwriter in /usr/local/lib/python3.10/dist-packages (3.1.9)\n"
          ]
        }
      ]
    },
    {
      "cell_type": "code",
      "source": [
        "import numpy as np\n",
        "import pandas as pd"
      ],
      "metadata": {
        "id": "JHcPoKXppvwH"
      },
      "execution_count": 2,
      "outputs": []
    },
    {
      "cell_type": "code",
      "source": [
        "def generate_fuzzy_pentagonal(rows, columns):\n",
        "    fuzzy_matrix = np.zeros((rows, columns), dtype=object)\n",
        "    for i in range(rows):\n",
        "        for j in range(columns):\n",
        "            fuzzy_values = np.random.randint(1, 101, size=5)\n",
        "            fuzzy_matrix[i, j] = fuzzy_values\n",
        "    return fuzzy_matrix\n",
        "\n",
        "def calculate_supply_demand(matrix):\n",
        "    supply = np.sum(matrix, axis=1)\n",
        "    demand = np.sum(matrix, axis=0)\n",
        "    return supply, demand\n",
        "\n",
        "def print_table(matrix, supply, demand):\n",
        "    df = pd.DataFrame(matrix, columns=[f'C{i+1}' for i in range(matrix.shape[1])])\n",
        "    df.index = [f'R{i+1}' for i in range(matrix.shape[0])]\n",
        "    df['Supply'] = supply\n",
        "    df.loc['Demand'] = np.append(demand, np.nan)\n",
        "    print(df)\n",
        "\n",
        "def rank_centroid_method(a1, a2, a3, a4, a5):\n",
        "    rank = ((a5**2)+(a4**2)+(a5*a4)-(a2**2)-(a1**2)-(a2*a1))/(3*(a5+a4-a2-a1))\n",
        "    return rank\n",
        "\n",
        "def generate_rank(rows, columns, FP_table):\n",
        "    rank_matrix = FP_table.copy()\n",
        "    for i in range(rows):\n",
        "        for j in range(columns):\n",
        "            a1 = rank_matrix[i, j][0]\n",
        "            a2 = rank_matrix[i, j][1]\n",
        "            a3 = rank_matrix[i, j][2]\n",
        "            a4 = rank_matrix[i, j][3]\n",
        "            a5 = rank_matrix[i, j][4]\n",
        "            rank_matrix[i, j] = rank_centroid_method(a1, a2, a3, a4, a5)\n",
        "    return rank_matrix\n",
        "\n",
        "def save_to_excel(fuzzy_table, rank_table, file_path):\n",
        "    fuzzy_df = pd.DataFrame(fuzzy_table, columns=[f'C{i+1}' for i in range(fuzzy_table.shape[1])])\n",
        "    fuzzy_df.index = [f'R{i+1}' for i in range(fuzzy_table.shape[0])]\n",
        "    fuzzy_df['Supply'] = fuzzy_supply\n",
        "    fuzzy_df.loc['Demand'] = np.append(fuzzy_demand, np.nan)\n",
        "\n",
        "    rank_df = pd.DataFrame(rank_table, columns=[f'C{i+1}' for i in range(rank_table.shape[1])])\n",
        "    rank_df.index = [f'R{i+1}' for i in range(rank_table.shape[0])]\n",
        "    rank_df['Supply'] = rank_supply\n",
        "    rank_df.loc['Demand'] = np.append(rank_demand, np.nan)\n",
        "\n",
        "    with pd.ExcelWriter(file_path, engine='xlsxwriter') as writer:\n",
        "        fuzzy_df.to_excel(writer, sheet_name='Data Fuzzy', index=True)\n",
        "        rank_df.to_excel(writer, sheet_name='Data Ranking', index=True)"
      ],
      "metadata": {
        "id": "vlRVwJqyp6wA"
      },
      "execution_count": 3,
      "outputs": []
    },
    {
      "cell_type": "code",
      "source": [
        "rows = int(input(\"Masukkan jumlah baris: \"))\n",
        "columns = int(input(\"Masukkan jumlah kolom: \"))\n",
        "print()\n",
        "\n",
        "print('====DATA FUZZY====')\n",
        "fuzzy_pentagonal_table = generate_fuzzy_pentagonal(rows, columns)\n",
        "fuzzy_supply, fuzzy_demand = calculate_supply_demand(fuzzy_pentagonal_table)\n",
        "print_table(fuzzy_pentagonal_table, fuzzy_supply, fuzzy_demand)\n",
        "print()\n",
        "\n",
        "print('====DATA RANKING====')\n",
        "rank_table = generate_rank(rows, columns, fuzzy_pentagonal_table)\n",
        "rank_supply, rank_demand = calculate_supply_demand(rank_table)\n",
        "print_table(rank_table, rank_supply, rank_demand)\n",
        "\n",
        "#===NOTE===\n",
        "#Jika nilai pada Data Ranking terdapat \"inf\", itu menunjukkan nilai infinite, sehingga cell ini perlu di run ulang untuk mengupdate nilai fuzzy"
      ],
      "metadata": {
        "id": "7IkYfDybqGta"
      },
      "execution_count": null,
      "outputs": []
    },
    {
      "cell_type": "code",
      "source": [
        "#====NOTE====\n",
        "#Jika data fuzzy dan data ranking ingin disimpan dalam file excel, run cell ini\n",
        "#Namun jika tidak ingin disimpan dalam file excel, maka biarkan saja, tidak perlu di run\n",
        "\n",
        "excel_file_name = input(\"Masukkan nama file Excel: \")\n",
        "if not excel_file_name.endswith('.xlsx'):\n",
        "    excel_file_name += '.xlsx'\n",
        "excel_file_path = excel_file_name\n",
        "save_to_excel(fuzzy_pentagonal_table, rank_table, excel_file_path)\n",
        "\n",
        "print('Data telah disimpan dalam file Excel')"
      ],
      "metadata": {
        "id": "VDZcpn90b1Tr"
      },
      "execution_count": null,
      "outputs": []
    }
  ]
}